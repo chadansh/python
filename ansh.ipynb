{
 "cells": [
  {
   "cell_type": "code",
   "execution_count": 1,
   "metadata": {},
   "outputs": [
    {
     "name": "stdout",
     "output_type": "stream",
     "text": [
      "None\n"
     ]
    }
   ],
   "source": [
    "import pyautogui as pg\n",
    "a=pg.prompt('This lets the user type in a string and press OK.')\n",
    "print(a)"
   ]
  },
  {
   "cell_type": "code",
   "execution_count": 42,
   "id": "f49eae44",
   "metadata": {},
   "outputs": [
    {
     "name": "stdout",
     "output_type": "stream",
     "text": [
      "aryan_y20\n",
      "i is zero\n",
      "kartikey_pandit_456\n",
      "i is now greater than zero \n"
     ]
    }
   ],
   "source": [
    "i=0\n",
    "num_usr=['aryan_y20','kartikey_pandit_456',]\n",
    "for j in num_usr:\n",
    "            print(num_usr[i])  \n",
    "            if i == 0 :\n",
    "                print(\"i is zero\")\n",
    "            else:\n",
    "                print(\"i is now greater than zero \")\n",
    "            i+=1\n",
    "       "
   ]
  },
  {
   "cell_type": "markdown",
   "id": "db8d9ff7",
   "metadata": {},
   "source": []
  }
 ],
 "metadata": {
  "kernelspec": {
   "display_name": "Python 3",
   "language": "python",
   "name": "python3"
  },
  "language_info": {
   "codemirror_mode": {
    "name": "ipython",
    "version": 3
   },
   "file_extension": ".py",
   "mimetype": "text/x-python",
   "name": "python",
   "nbconvert_exporter": "python",
   "pygments_lexer": "ipython3",
   "version": "3.10.9"
  },
  "vscode": {
   "interpreter": {
    "hash": "35938252d1456f5373d845a8556cf8efb5fb66d99929145c8ef62603f3b542a2"
   }
  }
 },
 "nbformat": 4,
 "nbformat_minor": 5
}
